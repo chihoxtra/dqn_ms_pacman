{
 "cells": [
  {
   "cell_type": "markdown",
   "metadata": {},
   "source": [
    "The problem statement:\n",
    "https://gym.openai.com/envs/MsPacman-v0"
   ]
  },
  {
   "cell_type": "code",
   "execution_count": 52,
   "metadata": {},
   "outputs": [
    {
     "name": "stdout",
     "output_type": "stream",
     "text": [
      "The autoreload extension is already loaded. To reload it, use:\n",
      "  %reload_ext autoreload\n",
      "Requirement already satisfied: pyvirtualdisplay in /Users/samuelpun_old/anaconda3/lib/python3.6/site-packages (0.2.1)\n",
      "Requirement already satisfied: EasyProcess in /Users/samuelpun_old/anaconda3/lib/python3.6/site-packages (from pyvirtualdisplay) (0.2.5)\n",
      "\u001b[33mYou are using pip version 18.0, however version 19.0.1 is available.\n",
      "You should consider upgrading via the 'pip install --upgrade pip' command.\u001b[0m\n"
     ]
    }
   ],
   "source": [
    "%load_ext autoreload\n",
    "%autoreload 2\n",
    "\n",
    "import gym\n",
    "import random\n",
    "import torch\n",
    "from torchvision import transforms\n",
    "\n",
    "import numpy as np\n",
    "from collections import deque\n",
    "\n",
    "import matplotlib.pyplot as plt\n",
    "%matplotlib inline\n",
    "\n",
    "from DDQN_agent_Atari_3D_PReplay_Tree import Agent\n",
    "from myWrappers import StackEnv\n",
    "\n",
    "!python -m pip install pyvirtualdisplay\n",
    "from pyvirtualdisplay import Display\n",
    "display = Display(visible=0, size=(1400, 900))\n",
    "display.start()\n",
    "\n",
    "is_ipython = 'inline' in plt.get_backend()\n",
    "if is_ipython:\n",
    "    from IPython import display\n",
    "\n",
    "plt.ion()"
   ]
  },
  {
   "cell_type": "code",
   "execution_count": 53,
   "metadata": {},
   "outputs": [
    {
     "name": "stdout",
     "output_type": "stream",
     "text": [
      "State shape:  (210, 160, 3)\n",
      "Number of actions:  9\n",
      "List of available actions:  ['NOOP', 'UP', 'RIGHT', 'LEFT', 'DOWN', 'UPRIGHT', 'UPLEFT', 'DOWNRIGHT', 'DOWNLEFT']\n",
      "Number of lives 3\n"
     ]
    }
   ],
   "source": [
    "# Original Gym Env basic info\n",
    "env = gym.make('MsPacman-v0')\n",
    "env.seed(0)\n",
    "state_space = env.observation_space.shape\n",
    "action_space = env.action_space.n\n",
    "input_shape = (84,84)\n",
    "states_stack_depth = 4\n",
    "\n",
    "print('State shape: ', state_space)\n",
    "print('Number of actions: ', action_space)\n",
    "print(\"List of available actions: \", env.unwrapped.get_action_meanings())\n",
    "print(\"Number of lives\", env.unwrapped.ale.lives())"
   ]
  },
  {
   "cell_type": "code",
   "execution_count": 54,
   "metadata": {},
   "outputs": [
    {
     "data": {
      "text/plain": [
       "<matplotlib.image.AxesImage at 0x11f513048>"
      ]
     },
     "execution_count": 54,
     "metadata": {},
     "output_type": "execute_result"
    },
    {
     "data": {
      "image/png": "[encoded data removed]",
      "text/plain": [
       "<Figure size 720x432 with 3 Axes>"
      ]
     },
     "metadata": {},
     "output_type": "display_data"
    }
   ],
   "source": [
    "#import images\n",
    "s = env.reset()\n",
    "s0, s1, s2 = None, None, None\n",
    "\n",
    "sampleframe = 240\n",
    "\n",
    "fig, (ax1, ax2, ax3) = plt.subplots(1,3, figsize=(10,6)) \n",
    "for i in range(1000):\n",
    "    s, r, d, _ = env.step(1)\n",
    "    if i == sampleframe:\n",
    "        s0 = s\n",
    "    if i == (sampleframe+1):\n",
    "        s1= s\n",
    "    if i == (sampleframe+2):\n",
    "        s2= s\n",
    "ax1.imshow(s0)\n",
    "ax2.imshow(s1)\n",
    "ax3.imshow(s2)"
   ]
  },
  {
   "cell_type": "code",
   "execution_count": 55,
   "metadata": {},
   "outputs": [
    {
     "data": {
      "text/plain": [
       "<matplotlib.image.AxesImage at 0x11eb80668>"
      ]
     },
     "execution_count": 55,
     "metadata": {},
     "output_type": "execute_result"
    },
    {
     "data": {
      "image/png": "[encoded data removed]",
      "text/plain": [
       "<Figure size 432x288 with 1 Axes>"
      ]
     },
     "metadata": {},
     "output_type": "display_data"
    }
   ],
   "source": [
    "plt.imshow(np.max((s1,s2),axis=0))"
   ]
  },
  {
   "cell_type": "code",
   "execution_count": 76,
   "metadata": {},
   "outputs": [
    {
     "name": "stdout",
     "output_type": "stream",
     "text": [
      "(84, 84)\n",
      "(84, 84)\n",
      "(84, 84)\n",
      "(84, 84)\n",
      "(84, 84)\n",
      "(84, 84)\n",
      "(84, 84)\n",
      "(84, 84)\n",
      "(84, 84)\n",
      "(84, 84)\n",
      "(84, 84)\n",
      "(84, 84)\n",
      "(84, 84)\n",
      "(84, 84)\n",
      "(84, 84)\n",
      "(84, 84)\n",
      "(84, 84)\n",
      "(84, 84)\n",
      "(84, 84)\n",
      "(84, 84)\n",
      "(84, 84)\n",
      "(84, 84)\n",
      "(84, 84)\n",
      "(84, 84)\n",
      "(84, 84)\n",
      "(84, 84)\n",
      "(84, 84)\n",
      "(84, 84)\n",
      "(84, 84)\n",
      "(84, 84)\n",
      "(84, 84)\n",
      "(84, 84)\n",
      "(84, 84)\n",
      "(84, 84)\n",
      "(84, 84)\n",
      "(84, 84)\n",
      "(84, 84)\n",
      "(84, 84)\n",
      "(84, 84)\n",
      "(84, 84)\n",
      "(84, 84)\n",
      "(84, 84)\n",
      "(84, 84)\n",
      "(84, 84)\n",
      "(84, 84)\n",
      "(84, 84)\n",
      "(84, 84)\n",
      "(84, 84)\n",
      "(84, 84)\n",
      "(84, 84)\n",
      "(84, 84)\n",
      "(84, 84)\n",
      "(84, 84)\n",
      "(84, 84)\n",
      "(84, 84)\n",
      "(84, 84)\n",
      "(84, 84)\n",
      "(84, 84)\n",
      "(84, 84)\n",
      "(84, 84)\n",
      "(84, 84)\n",
      "(84, 84)\n",
      "(84, 84)\n",
      "(84, 84)\n",
      "(84, 84)\n",
      "(84, 84)\n",
      "(84, 84)\n",
      "(84, 84)\n",
      "(84, 84)\n",
      "(84, 84)\n",
      "(84, 84)\n",
      "(84, 84)\n",
      "(84, 84)\n",
      "(84, 84)\n",
      "(84, 84)\n",
      "(84, 84)\n",
      "(84, 84)\n",
      "(84, 84)\n",
      "(84, 84)\n",
      "(84, 84)\n",
      "(84, 84)\n",
      "(84, 84)\n",
      "(84, 84)\n",
      "(84, 84)\n",
      "(84, 84)\n",
      "(84, 84)\n",
      "(84, 84)\n",
      "(84, 84)\n",
      "(84, 84)\n",
      "(84, 84)\n",
      "(84, 84)\n",
      "(84, 84)\n",
      "(84, 84)\n",
      "(84, 84)\n",
      "(84, 84)\n",
      "(84, 84)\n",
      "(84, 84)\n",
      "(84, 84)\n",
      "(84, 84)\n",
      "(84, 84)\n",
      "(84, 84)\n",
      "(84, 84)\n",
      "(84, 84)\n",
      "(84, 84)\n",
      "(84, 84)\n",
      "(84, 84)\n",
      "(84, 84)\n",
      "(84, 84)\n",
      "(84, 84)\n",
      "(84, 84)\n",
      "(84, 84)\n",
      "(84, 84)\n",
      "(84, 84)\n",
      "(84, 84)\n",
      "(84, 84)\n",
      "(84, 84)\n",
      "(84, 84)\n",
      "(84, 84)\n",
      "(84, 84)\n",
      "(84, 84)\n",
      "(84, 84)\n",
      "(84, 84)\n",
      "(84, 84)\n",
      "(84, 84)\n",
      "(84, 84)\n",
      "(84, 84)\n",
      "(84, 84)\n",
      "(84, 84)\n",
      "(84, 84)\n",
      "(84, 84)\n",
      "(84, 84)\n",
      "(84, 84)\n",
      "(84, 84)\n",
      "(84, 84)\n",
      "(84, 84)\n",
      "(84, 84)\n",
      "(84, 84)\n",
      "(84, 84)\n",
      "(84, 84)\n",
      "(84, 84)\n",
      "(84, 84)\n",
      "(84, 84)\n",
      "(84, 84)\n",
      "(84, 84)\n",
      "(84, 84)\n",
      "(84, 84)\n",
      "(84, 84)\n",
      "(84, 84)\n",
      "(84, 84)\n",
      "(84, 84)\n",
      "(84, 84)\n",
      "(84, 84)\n",
      "(84, 84)\n",
      "(84, 84)\n",
      "(84, 84)\n",
      "(84, 84)\n",
      "(84, 84)\n",
      "(84, 84)\n",
      "(84, 84)\n",
      "(84, 84)\n",
      "(84, 84)\n",
      "(84, 84)\n",
      "(84, 84)\n",
      "(84, 84)\n",
      "(84, 84)\n",
      "(84, 84)\n",
      "(84, 84)\n",
      "(84, 84)\n",
      "(84, 84)\n",
      "(84, 84)\n",
      "(84, 84)\n",
      "(84, 84)\n",
      "(84, 84)\n",
      "(84, 84)\n",
      "(84, 84)\n",
      "(84, 84)\n",
      "(84, 84)\n",
      "(84, 84)\n",
      "(84, 84)\n",
      "(84, 84)\n",
      "ending frame:  179\n"
     ]
    },
    {
     "data": {
      "text/plain": [
       "<matplotlib.image.AxesImage at 0x11e32b358>"
      ]
     },
     "execution_count": 76,
     "metadata": {},
     "output_type": "execute_result"
    },
    {
     "data": {
      "image/png": "[encoded data removed]",
      "text/plain": [
       "<Figure size 1152x576 with 4 Axes>"
      ]
     },
     "metadata": {},
     "output_type": "display_data"
    }
   ],
   "source": [
    "#to get all the preprosing logic done in this class\n",
    "from myWrappers import StackEnv\n",
    "stackenv = StackEnv(gym.make('MsPacman-v0'), skipframes=4, mergeframes=2)\n",
    "\n",
    "#import images\n",
    "s = stackenv.reset()\n",
    "s0, s1, s2 = None, None, None\n",
    "\n",
    "sampleframe = 15\n",
    "\n",
    "frame_dq = deque(maxlen=100)\n",
    "\n",
    "fig, (ax1, ax2, ax3, ax4) = plt.subplots(1,4, figsize=(16,8)) \n",
    "i = 0\n",
    "d = False\n",
    "while not d:\n",
    "    if i == sampleframe:\n",
    "        printState = True\n",
    "    else:\n",
    "        printState = False\n",
    "    s, r, d, l = stackenv.step(np.random.choice(5), printState)\n",
    "    frame_dq.append(s)\n",
    "    i += 1\n",
    "print(\"ending frame: \",i)\n",
    "ax1.imshow(frame_dq[sampleframe][0,:,:], cmap='Greys')\n",
    "ax2.imshow(frame_dq[sampleframe][1,:,:], cmap='Greys')\n",
    "ax3.imshow(frame_dq[sampleframe][2,:,:], cmap='Greys')\n",
    "ax4.imshow(frame_dq[sampleframe][3,:,:], cmap='Greys')"
   ]
  },
  {
   "cell_type": "code",
   "execution_count": 98,
   "metadata": {},
   "outputs": [
    {
     "data": {
      "image/png": "[encoded data removed]",
      "text/plain": [
       "<Figure size 576x432 with 1 Axes>"
      ]
     },
     "metadata": {},
     "output_type": "display_data"
    }
   ],
   "source": [
    "untrained_agent = Agent(state_size=states_stack_depth, action_size=action_space, seed=10)\n",
    "\n",
    "fig, ax = plt.subplots(figsize=(8, 6))\n",
    "\n",
    "# watch an untrained agent\n",
    "stackenv = StackEnv(gym.make('MsPacman-v0'), skipframes=4, mergeframes=2)\n",
    "state_inputs = stackenv.reset()\n",
    "\n",
    "img = ax.imshow(stackenv.render(proccessed=True), cmap='Greys')\n",
    "for j in range(1000):\n",
    "    action = np.random.choice(action_space)\n",
    "    img.set_data(stackenv.render(proccessed=True)) \n",
    "    plt.axis('off')\n",
    "    display.display(plt.gcf())\n",
    "    display.clear_output(wait=True)\n",
    "\n",
    "    next_state_inputs, reward, done, life_lost = stackenv.step(action)\n",
    "    state_inputs = next_state_inputs\n",
    "    \n",
    "    if done:\n",
    "        break \n",
    "        \n",
    "stackenv.close()"
   ]
  },
  {
   "cell_type": "code",
   "execution_count": 89,
   "metadata": {},
   "outputs": [],
   "source": [
    "def loadTrainedModel(agent, path):\n",
    "    state_dicts = torch.load(path)\n",
    "    print(state_dicts['model'].keys())\n",
    "\n",
    "    agent.qnetwork_local.load_state_dict(state_dicts['model'])\n",
    "    agent.optimizer.load_state_dict(state_dicts['optimizer'])\n",
    "    \n",
    "    return agent, state_dicts['eps'], state_dicts['n_episodes'], state_dicts['i_episode']"
   ]
  },
  {
   "cell_type": "code",
   "execution_count": null,
   "metadata": {},
   "outputs": [],
   "source": [
    "def saveTrainedModel(agent, path, eps, n_episodes, i_episode):\n",
    "    state_dicts = {'model': agent.qnetwork_local.state_dict(), \n",
    "                   'optimizer': agent.optimizer.state_dict(),\n",
    "                   'eps': eps, \n",
    "                   'n_episodes': n_episodes,\n",
    "                   'i_episode': i_episode\n",
    "                  }\n",
    "    torch.save(state_dicts, path)"
   ]
  },
  {
   "cell_type": "code",
   "execution_count": 143,
   "metadata": {},
   "outputs": [
    {
     "name": "stdout",
     "output_type": "stream",
     "text": [
      "current device: cpu\n",
      "use duel network (a and v): True\n",
      "use double network: True\n",
      "use reward scaling: False\n",
      "use error clipping: True\n",
      "buffer size: 1000\n",
      "batch size: 64\n",
      "initial learning rate: 0.0003\n",
      "learing rate decay: True\n",
      "min replay size: 1000\n",
      "target network update: 1000\n",
      "optimizer: RMSprop (\n",
      "Parameter Group 0\n",
      "    alpha: 0.99\n",
      "    centered: False\n",
      "    eps: 1e-08\n",
      "    initial_lr: 0.0003\n",
      "    lr: 0.0003\n",
      "    momentum: 0\n",
      "    weight_decay: 0\n",
      ")\n",
      "QNetwork(\n",
      "  (conv1): Conv2d(4, 32, kernel_size=(8, 8), stride=(4, 4))\n",
      "  (conv2): Conv2d(32, 64, kernel_size=(4, 4), stride=(2, 2))\n",
      "  (conv3): Conv2d(64, 64, kernel_size=(3, 3), stride=(1, 1))\n",
      "  (fc1a): Linear(in_features=3136, out_features=512, bias=True)\n",
      "  (fc3a): Linear(in_features=512, out_features=5, bias=True)\n",
      "  (fc1v): Linear(in_features=3136, out_features=512, bias=True)\n",
      "  (fc3v): Linear(in_features=512, out_features=1, bias=True)\n",
      ")\n"
     ]
    }
   ],
   "source": [
    "model_dir = 'saved_models/'\n",
    "model_name = 'MsPacman-v1-3D-5-actions.pt'\n",
    "\n",
    "agent = Agent(state_size=states_stack_depth, action_size=5, seed=0)\n",
    "print(agent.qnetwork_local)\n",
    "\n",
    "loadSavedModel = False\n",
    "\n",
    "if loadSavedModel == True:\n",
    "    agent, eps, n_episodes, i_episode = loadTrainedModel(agent, model_dir+model_name)\n",
    "    eps = 1.0\n",
    "    n_episodes = 5000\n",
    "    i_episode = 1\n",
    "else:\n",
    "    eps = 1.0\n",
    "    n_episodes = 10000\n",
    "    i_episode = 1"
   ]
  },
  {
   "cell_type": "code",
   "execution_count": 144,
   "metadata": {},
   "outputs": [
    {
     "name": "stdout",
     "output_type": "stream",
     "text": [
      "Training to be started... Steps: 988 current device: cpu\n",
      "use duel network (a and v): True\n",
      "use double network: True\n",
      "use reward scaling: False\n",
      "use error clipping: True\n",
      "buffer size: 1000\n",
      "batch size: 64\n",
      "initial learning rate: 0.0003\n",
      "learing rate decay: True\n",
      "min replay size: 1000\n",
      "target network update: 1000\n",
      "optimizer: RMSprop (\n",
      "Parameter Group 0\n",
      "    alpha: 0.99\n",
      "    centered: False\n",
      "    eps: 1e-08\n",
      "    initial_lr: 0.0003\n",
      "    lr: 0.0003\n",
      "    momentum: 0\n",
      "    weight_decay: 0\n",
      ")\n",
      "Prefetch completed. Training starts!                         \n",
      "Episode: 100\tAvg Score: 72.70\tb: 0.504"
     ]
    },
    {
     "ename": "NameError",
     "evalue": "name 'agent_unity' is not defined",
     "output_type": "error",
     "traceback": [
      "\u001b[0;31m---------------------------------------------------------------------------\u001b[0m",
      "\u001b[0;31mNameError\u001b[0m                                 Traceback (most recent call last)",
      "\u001b[0;32m<ipython-input-144-76352f1e4d5e>\u001b[0m in \u001b[0;36m<module>\u001b[0;34m()\u001b[0m\n\u001b[1;32m     87\u001b[0m     \u001b[0;32mreturn\u001b[0m \u001b[0mscores\u001b[0m\u001b[0;34m\u001b[0m\u001b[0m\n\u001b[1;32m     88\u001b[0m \u001b[0;34m\u001b[0m\u001b[0m\n\u001b[0;32m---> 89\u001b[0;31m \u001b[0mscores\u001b[0m \u001b[0;34m=\u001b[0m \u001b[0mdqn_3D\u001b[0m\u001b[0;34m(\u001b[0m\u001b[0mn_episodes\u001b[0m\u001b[0;34m,\u001b[0m \u001b[0mi_episode\u001b[0m\u001b[0;34m=\u001b[0m\u001b[0mi_episode\u001b[0m\u001b[0;34m,\u001b[0m \u001b[0meps_start\u001b[0m\u001b[0;34m=\u001b[0m\u001b[0meps\u001b[0m\u001b[0;34m)\u001b[0m\u001b[0;34m\u001b[0m\u001b[0m\n\u001b[0m",
      "\u001b[0;32m<ipython-input-144-76352f1e4d5e>\u001b[0m in \u001b[0;36mdqn_3D\u001b[0;34m(n_episodes, i_episode, max_t, eps_start, eps_end, eps_decay)\u001b[0m\n\u001b[1;32m     60\u001b[0m \u001b[0;34m\u001b[0m\u001b[0m\n\u001b[1;32m     61\u001b[0m             \u001b[0;32mif\u001b[0m \u001b[0mi_episode\u001b[0m \u001b[0;34m%\u001b[0m \u001b[0;36m100\u001b[0m \u001b[0;34m==\u001b[0m \u001b[0;36m0\u001b[0m\u001b[0;34m:\u001b[0m\u001b[0;34m\u001b[0m\u001b[0m\n\u001b[0;32m---> 62\u001b[0;31m                 \u001b[0mlatest_lr\u001b[0m \u001b[0;34m=\u001b[0m \u001b[0magent_unity\u001b[0m\u001b[0;34m.\u001b[0m\u001b[0moptimizer\u001b[0m\u001b[0;34m.\u001b[0m\u001b[0mstate_dict\u001b[0m\u001b[0;34m(\u001b[0m\u001b[0;34m)\u001b[0m\u001b[0;34m[\u001b[0m\u001b[0;34m'param_groups'\u001b[0m\u001b[0;34m]\u001b[0m\u001b[0;34m[\u001b[0m\u001b[0;36m0\u001b[0m\u001b[0;34m]\u001b[0m\u001b[0;34m[\u001b[0m\u001b[0;34m'lr'\u001b[0m\u001b[0;34m]\u001b[0m\u001b[0;34m\u001b[0m\u001b[0m\n\u001b[0m\u001b[1;32m     63\u001b[0m                 \u001b[0mtd_s\u001b[0m \u001b[0;34m=\u001b[0m \u001b[0magent_unity\u001b[0m\u001b[0;34m.\u001b[0m\u001b[0mmemory\u001b[0m\u001b[0;34m.\u001b[0m\u001b[0mtree\u001b[0m\u001b[0;34m.\u001b[0m\u001b[0mtotal_td_score\u001b[0m\u001b[0;34m\u001b[0m\u001b[0m\n\u001b[1;32m     64\u001b[0m \u001b[0;34m\u001b[0m\u001b[0m\n",
      "\u001b[0;31mNameError\u001b[0m: name 'agent_unity' is not defined"
     ]
    }
   ],
   "source": [
    "def dqn_3D(n_episodes=1000, i_episode=1, max_t=1000, eps_start=1.0, eps_end=0.01, eps_decay=0.99995):\n",
    "    \"\"\"Deep Q-Learning.\n",
    "    \n",
    "    Params\n",
    "    ======\n",
    "        n_episodes (int): maximum number of training episodes\n",
    "        max_t (int): maximum number of timesteps per episode\n",
    "        eps_start (float): starting value of epsilon, for epsilon-greedy action selection\n",
    "        eps_end (float): minimum value of epsilon\n",
    "        eps_decay (float): multiplicative factor (per episode) for decreasing epsilon\n",
    "    \"\"\"\n",
    "    stackenv = StackEnv(gym.make('MsPacman-v0'), skipframes=4, mergeframes=1)\n",
    "    \n",
    "    scores = []                        # list containing scores from each episode\n",
    "    scores_window = deque(maxlen=100)  # last 100 scores\n",
    "    frame_counter = 0                  # keep track of number of frames seen\n",
    "    \n",
    "    eps = eps_start                    # initialize epsilon \n",
    "    eps_decay = 0.99995                # make sure decay come to min \n",
    "    max_score = -np.inf\n",
    "    \n",
    "    while i_episode < n_episodes + 1:\n",
    "        \n",
    "        state_inputs = stackenv.reset()    \n",
    "        score = 0\n",
    "\n",
    "        for t in range(max_t):\n",
    "\n",
    "            action = agent.act(state_inputs, eps) #for action recommendation\n",
    "            \n",
    "            next_state_inputs, reward, done = stackenv.step(action)\n",
    "            \n",
    "            frame_counter += 1\n",
    "            \n",
    "            agent.step(state_inputs , action, reward, next_state_inputs, done, (i_episode,n_episodes))\n",
    "            \n",
    "            state_inputs = next_state_inputs\n",
    "            \n",
    "            score += reward\n",
    "            \n",
    "            if done:\n",
    "                break \n",
    "                \n",
    "        if agent.isTraining == True:     #learning starts   \n",
    "            scores_window.append(score)       # save most recent score\n",
    "            scores.append(score)              # save most recent score\n",
    "\n",
    "            eps = max(eps_end, eps_decay*eps) # decay epsilon\n",
    "\n",
    "            print('\\rEpisode: {}\\tAvg Score: {:.2f}\\tb: {:.3f}'.format(i_episode, \n",
    "                                                                       np.mean(scores_window),\n",
    "                                                                       agent.p_replay_beta\n",
    "                                                                      ), end=\"\")\n",
    "            #save scores if there is a new max\n",
    "            if i_episode > 100 and np.mean(scores_window) > max_score:\n",
    "                max_score = np.mean(scores_window)\n",
    "                saveTrainedModel(agent, model_dir+model_name, eps, n_episodes, i_episode)\n",
    "                print('')\n",
    "                print('New max avg score {:.2f} found. Model saved.'.format(max_score))\n",
    "                \n",
    "            if i_episode % 100 == 0:\n",
    "                latest_lr = agent_unity.optimizer.state_dict()['param_groups'][0]['lr']\n",
    "                td_s = agent_unity.memory.tree.total_td_score\n",
    "\n",
    "                #print('\\rrEpisode: {}\\tAvg Score: {:.2f}'.format(i_episode, np.mean(scores_window)), end=\"\")\n",
    "                print(('\\rEpisode: {}\\tAvg Score: {:.2f}\\tsteps: {}  eps: {:.2f}  lr: {:1.2e}'\n",
    "                       '\\tp:{:.1f}   b:{:.2f}   td:{:.2f}').format(i_episode, np.mean(scores_window),\n",
    "                                                                     agent_unity.t_step, eps, latest_lr, \n",
    "                                                                     agent_unity.p_replay_alpha, \n",
    "                                                                     agent_unity.p_replay_beta,\n",
    "                                                                     td_s, end=\"\"))\n",
    "\n",
    "\n",
    "            if np.mean(scores_window)>=2500.0:\n",
    "                print('\\nEnvironment solved in {:d} episodes!\\tAverage Score: {:.2f}'.format(i_episode-100,\n",
    "                                                                                             np.mean(scores_window)))\n",
    "\n",
    "                saveTrainedModel(agent, model_dir+model_name, eps, n_episodes, i_episode)\n",
    "                break\n",
    "            \n",
    "            i_episode += 1\n",
    "        else:\n",
    "            print('\\rTraining to be started... Steps: {} '.format(agent.t_step), end=\"\")\n",
    "\n",
    "    stackenv.close()\n",
    "        \n",
    "    return scores\n",
    "\n",
    "scores = dqn_3D(n_episodes, i_episode=i_episode, eps_start=eps)"
   ]
  },
  {
   "cell_type": "code",
   "execution_count": null,
   "metadata": {},
   "outputs": [],
   "source": [
    "# plot the scores\n",
    "fig = plt.figure()\n",
    "ax = fig.add_subplot(111)\n",
    "plt.plot(np.arange(len(scores)), scores)\n",
    "plt.ylabel('Score')\n",
    "plt.xlabel('Episode #')\n",
    "plt.show()"
   ]
  },
  {
   "cell_type": "code",
   "execution_count": 12,
   "metadata": {},
   "outputs": [
    {
     "data": {
      "image/png": "[encoded data removed]",
      "text/plain": [
       "<matplotlib.figure.Figure at 0x7f4a02979be0>"
      ]
     },
     "metadata": {},
     "output_type": "display_data"
    }
   ],
   "source": [
    "# load the weights from file\n",
    "#torch.load(agent.qnetwork_local.state_dict(), model_dir+model_name)\n",
    "fig, ax = plt.subplots(figsize=(8, 6))\n",
    "\n",
    "stackenv = StackEnv(gym.make('MsPacman-v0'), skipframe=4)\n",
    "\n",
    "agent.qnetwork_local.eval()\n",
    "agent.qnetwork_target.eval()\n",
    "\n",
    "for i in range(3):\n",
    "    # watch an untrained agent\n",
    "    state_inputs = stackenv.reset()  \n",
    "    \n",
    "    img = ax.imshow(stackenv.env.render(mode='rgb_array'))\n",
    "    for j in range(1000):\n",
    "        action = agent.act(state_inputs)\n",
    "        img.set_data(stackenv.env.render(mode='rgb_array')) \n",
    "        plt.axis('off')\n",
    "        display.display(plt.gcf())\n",
    "        display.clear_output(wait=True)\n",
    "        next_state_inputs, reward, done = stackenv.step(action)\n",
    "        \n",
    "        state_inputs = next_state_inputs\n",
    "        \n",
    "        if done:\n",
    "            break \n",
    "\n",
    "agent.qnetwork_local.train()\n",
    "#agent.qnetwork_target.train()\n",
    "            \n",
    "stackenv.env.close()"
   ]
  },
  {
   "cell_type": "code",
   "execution_count": 126,
   "metadata": {},
   "outputs": [],
   "source": [
    "from sumTree import SumTree"
   ]
  },
  {
   "cell_type": "code",
   "execution_count": 127,
   "metadata": {},
   "outputs": [],
   "source": [
    "tree = SumTree(4)"
   ]
  },
  {
   "cell_type": "code",
   "execution_count": null,
   "metadata": {},
   "outputs": [],
   "source": []
  },
  {
   "cell_type": "code",
   "execution_count": 128,
   "metadata": {},
   "outputs": [
    {
     "name": "stdout",
     "output_type": "stream",
     "text": [
      "1\n",
      "2\n",
      "3\n",
      "4\n"
     ]
    }
   ],
   "source": [
    "for i in np.arange(1,5,1):\n",
    "    tree.add(i,str(i))\n",
    "    print(i)"
   ]
  },
  {
   "cell_type": "code",
   "execution_count": 129,
   "metadata": {},
   "outputs": [
    {
     "data": {
      "text/plain": [
       "10.0"
      ]
     },
     "execution_count": 129,
     "metadata": {},
     "output_type": "execute_result"
    }
   ],
   "source": [
    "tree.tree[0]"
   ]
  },
  {
   "cell_type": "code",
   "execution_count": 141,
   "metadata": {},
   "outputs": [
    {
     "data": {
      "text/plain": [
       "(5, 3.0, '3')"
      ]
     },
     "execution_count": 141,
     "metadata": {},
     "output_type": "execute_result"
    }
   ],
   "source": [
    "tree.get_leaf(6)"
   ]
  },
  {
   "cell_type": "code",
   "execution_count": 75,
   "metadata": {},
   "outputs": [
    {
     "ename": "TypeError",
     "evalue": "ufunc 'subtract' did not contain a loop with signature matching types dtype('<U32') dtype('<U32') dtype('<U32')",
     "output_type": "error",
     "traceback": [
      "\u001b[0;31m---------------------------------------------------------------------------\u001b[0m",
      "\u001b[0;31mTypeError\u001b[0m                                 Traceback (most recent call last)",
      "\u001b[0;32m<ipython-input-75-ee2874916786>\u001b[0m in \u001b[0;36m<module>\u001b[0;34m()\u001b[0m\n\u001b[0;32m----> 1\u001b[0;31m \u001b[0mtree\u001b[0m\u001b[0;34m.\u001b[0m\u001b[0mupdate\u001b[0m\u001b[0;34m(\u001b[0m\u001b[0;36m6\u001b[0m\u001b[0;34m,\u001b[0m\u001b[0;34m'6.1'\u001b[0m\u001b[0;34m)\u001b[0m\u001b[0;34m\u001b[0m\u001b[0m\n\u001b[0m",
      "\u001b[0;32m~/Desktop/MLfolders/_udacity/pacman_rl/sumTree.py\u001b[0m in \u001b[0;36mupdate\u001b[0;34m(self, leaf_index, td_score)\u001b[0m\n\u001b[1;32m     77\u001b[0m     \u001b[0;32mdef\u001b[0m \u001b[0mupdate\u001b[0m\u001b[0;34m(\u001b[0m\u001b[0mself\u001b[0m\u001b[0;34m,\u001b[0m \u001b[0mleaf_index\u001b[0m\u001b[0;34m,\u001b[0m \u001b[0mtd_score\u001b[0m\u001b[0;34m)\u001b[0m\u001b[0;34m:\u001b[0m\u001b[0;34m\u001b[0m\u001b[0m\n\u001b[1;32m     78\u001b[0m         \u001b[0;31m# Change = new td_score score - former td_score\u001b[0m\u001b[0;34m\u001b[0m\u001b[0;34m\u001b[0m\u001b[0m\n\u001b[0;32m---> 79\u001b[0;31m         \u001b[0mchange\u001b[0m \u001b[0;34m=\u001b[0m \u001b[0mtd_score\u001b[0m \u001b[0;34m-\u001b[0m \u001b[0mself\u001b[0m\u001b[0;34m.\u001b[0m\u001b[0mtree\u001b[0m\u001b[0;34m[\u001b[0m\u001b[0mleaf_index\u001b[0m\u001b[0;34m]\u001b[0m\u001b[0;34m\u001b[0m\u001b[0m\n\u001b[0m\u001b[1;32m     80\u001b[0m         \u001b[0mself\u001b[0m\u001b[0;34m.\u001b[0m\u001b[0mtree\u001b[0m\u001b[0;34m[\u001b[0m\u001b[0mleaf_index\u001b[0m\u001b[0;34m]\u001b[0m \u001b[0;34m=\u001b[0m \u001b[0mtd_score\u001b[0m\u001b[0;34m\u001b[0m\u001b[0m\n\u001b[1;32m     81\u001b[0m \u001b[0;34m\u001b[0m\u001b[0m\n",
      "\u001b[0;31mTypeError\u001b[0m: ufunc 'subtract' did not contain a loop with signature matching types dtype('<U32') dtype('<U32') dtype('<U32')"
     ]
    }
   ],
   "source": [
    "tree.update(6,'6.1')"
   ]
  },
  {
   "cell_type": "code",
   "execution_count": null,
   "metadata": {},
   "outputs": [],
   "source": []
  }
 ],
 "metadata": {
  "kernelspec": {
   "display_name": "Python 3",
   "language": "python",
   "name": "python3"
  },
  "language_info": {
   "codemirror_mode": {
    "name": "ipython",
    "version": 3
   },
   "file_extension": ".py",
   "mimetype": "text/x-python",
   "name": "python",
   "nbconvert_exporter": "python",
   "pygments_lexer": "ipython3",
   "version": "3.5.5"
  }
 },
 "nbformat": 4,
 "nbformat_minor": 2
}
