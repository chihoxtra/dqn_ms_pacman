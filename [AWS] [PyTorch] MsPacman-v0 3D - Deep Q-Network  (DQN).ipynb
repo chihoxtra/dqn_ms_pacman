{
 "cells": [
  {
   "cell_type": "markdown",
   "metadata": {},
   "source": [
    "The problem statement:\n",
    "https://gym.openai.com/envs/MsPacman-v0"
   ]
  },
  {
   "cell_type": "code",
   "execution_count": 1,
   "metadata": {},
   "outputs": [
    {
     "name": "stdout",
     "output_type": "stream",
     "text": [
      "Requirement already satisfied: pyvirtualdisplay in /usr/local/lib/python2.7/dist-packages\n",
      "Requirement already satisfied: EasyProcess in /usr/local/lib/python2.7/dist-packages (from pyvirtualdisplay)\n",
      "\u001b[33mYou are using pip version 9.0.1, however version 18.1 is available.\n",
      "You should consider upgrading via the 'pip install --upgrade pip' command.\u001b[0m\n"
     ]
    }
   ],
   "source": [
    "%load_ext autoreload\n",
    "%autoreload 2\n",
    "\n",
    "import gym\n",
    "import random\n",
    "import torch\n",
    "from torchvision import transforms\n",
    "\n",
    "import numpy as np\n",
    "from collections import deque\n",
    "\n",
    "import matplotlib.pyplot as plt\n",
    "%matplotlib inline\n",
    "\n",
    "from DDQN_agent_Atari_3D_PReplay_Tree import Agent\n",
    "from myWrappers import StackEnv\n",
    "\n",
    "!python -m pip install pyvirtualdisplay\n",
    "from pyvirtualdisplay import Display\n",
    "display = Display(visible=0, size=(1400, 900))\n",
    "display.start()\n",
    "\n",
    "is_ipython = 'inline' in plt.get_backend()\n",
    "if is_ipython:\n",
    "    from IPython import display\n",
    "\n",
    "plt.ion()"
   ]
  },
  {
   "cell_type": "code",
   "execution_count": 2,
   "metadata": {},
   "outputs": [
    {
     "name": "stdout",
     "output_type": "stream",
     "text": [
      "State shape:  (210, 160, 3)\n",
      "Number of actions:  9\n"
     ]
    }
   ],
   "source": [
    "# Original Gym Env basic info\n",
    "env = gym.make('MsPacman-v0')\n",
    "env.seed(0)\n",
    "state_space = env.observation_space.shape\n",
    "action_space = env.action_space.n\n",
    "input_shape = (84,84)\n",
    "states_stack_depth = 4\n",
    "print('State shape: ', state_space)\n",
    "print('Number of actions: ', action_space)"
   ]
  },
  {
   "cell_type": "code",
   "execution_count": 3,
   "metadata": {},
   "outputs": [
    {
     "data": {
      "text/plain": [
       "<matplotlib.image.AxesImage at 0x7f60ba80d780>"
      ]
     },
     "execution_count": 3,
     "metadata": {},
     "output_type": "execute_result"
    },
    {
     "data": {
      "image/png": "[encoded data removed]",
      "text/plain": [
       "<matplotlib.figure.Figure at 0x7f6049dd8710>"
      ]
     },
     "metadata": {},
     "output_type": "display_data"
    }
   ],
   "source": [
    "#import images\n",
    "s = env.reset()\n",
    "s0, s1, s2 = None, None, None\n",
    "\n",
    "sampleframe = 240\n",
    "\n",
    "fig, (ax1, ax2, ax3) = plt.subplots(1,3, figsize=(10,6)) \n",
    "for i in range(1000):\n",
    "    s, r, d, _ = env.step(1)\n",
    "    if i == sampleframe:\n",
    "        s0 = s\n",
    "    if i == (sampleframe+1):\n",
    "        s1= s\n",
    "    if i == (sampleframe+2):\n",
    "        s2= s\n",
    "ax1.imshow(s0)\n",
    "ax2.imshow(s1)\n",
    "ax3.imshow(s2)"
   ]
  },
  {
   "cell_type": "code",
   "execution_count": 4,
   "metadata": {},
   "outputs": [],
   "source": [
    "#to get all the preprosing logic done in this class\n",
    "from myWrappers import StackEnv\n",
    "stackenv = StackEnv(gym.make('MsPacman-v0'))\n",
    "\n",
    "model_dir = 'saved_models/'\n",
    "model_name = 'MsPacman-v1-3D-all-dicts-AWS-tree.pt'"
   ]
  },
  {
   "cell_type": "code",
   "execution_count": 5,
   "metadata": {},
   "outputs": [
    {
     "name": "stdout",
     "output_type": "stream",
     "text": [
      "(4, 84, 84)\n"
     ]
    }
   ],
   "source": [
    "s = stackenv.reset()\n",
    "ns, r, d = stackenv.step(0)\n",
    "print(ns.shape)\n",
    "\n",
    "stackenv.close()"
   ]
  },
  {
   "cell_type": "code",
   "execution_count": 6,
   "metadata": {},
   "outputs": [
    {
     "data": {
      "image/png": "[encoded data removed]",
      "text/plain": [
       "<matplotlib.figure.Figure at 0x7f60ad47c208>"
      ]
     },
     "metadata": {},
     "output_type": "display_data"
    }
   ],
   "source": [
    "untrained_agent = Agent(state_size=states_stack_depth, action_size=action_space, seed=10)\n",
    "\n",
    "fig, ax = plt.subplots(figsize=(8, 6))\n",
    "\n",
    "# watch an untrained agent\n",
    "stackenv = StackEnv(gym.make('MsPacman-v0'), skipframe=2)\n",
    "state_inputs = stackenv.reset()\n",
    "\n",
    "img = ax.imshow(stackenv.env.render(mode='rgb_array'))\n",
    "for j in range(1000):\n",
    "    #action = untrained_agent.act(state_inputs)\n",
    "    action = np.random.choice(action_space)\n",
    "    img.set_data(stackenv.env.render(mode='rgb_array')) \n",
    "    plt.axis('off')\n",
    "    display.display(plt.gcf())\n",
    "    display.clear_output(wait=True)\n",
    "\n",
    "    next_state_inputs, reward, done = stackenv.step(action)\n",
    "    state_inputs = next_state_inputs\n",
    "    \n",
    "    if done:\n",
    "        break \n",
    "        \n",
    "stackenv.close()"
   ]
  },
  {
   "cell_type": "code",
   "execution_count": 7,
   "metadata": {},
   "outputs": [],
   "source": [
    "def loadTrainedModel(agent, path):\n",
    "    state_dicts = torch.load(path)\n",
    "    print(state_dicts['model'].keys())\n",
    "\n",
    "    agent.qnetwork_local.load_state_dict(state_dicts['model'])\n",
    "    agent.optimizer.load_state_dict(state_dicts['optimizer'])\n",
    "    \n",
    "    return agent, state_dicts['eps'], state_dicts['n_episodes'], state_dicts['i_episode']"
   ]
  },
  {
   "cell_type": "code",
   "execution_count": 8,
   "metadata": {},
   "outputs": [],
   "source": [
    "def saveTrainedModel(agent, path, eps, n_episodes, i_episode):\n",
    "    state_dicts = {'model': agent.qnetwork_local.state_dict(), \n",
    "                   'optimizer': agent.optimizer.state_dict(),\n",
    "                   'eps': eps, \n",
    "                   'n_episodes': n_episodes,\n",
    "                   'i_episode': i_episode\n",
    "                  }\n",
    "    torch.save(state_dicts, path)"
   ]
  },
  {
   "cell_type": "code",
   "execution_count": null,
   "metadata": {},
   "outputs": [
    {
     "name": "stdout",
     "output_type": "stream",
     "text": [
      "current device: cuda:0\n",
      "use duel network (a and v): True\n",
      "use double network: True\n",
      "use reward scaling: False\n",
      "use error clipping: True\n",
      "buffer size: 100000\n",
      "batch size: 64\n",
      "learning rate: 0.0002\n",
      "min replay size: 100000\n",
      "target network update: 1000\n",
      "optimizer: Adam (\n",
      "Parameter Group 0\n",
      "    amsgrad: False\n",
      "    betas: (0.9, 0.999)\n",
      "    eps: 1e-08\n",
      "    lr: 0.0002\n",
      "    weight_decay: 0\n",
      ")\n",
      "QNetwork(\n",
      "  (conv1): Conv2d(4, 32, kernel_size=(8, 8), stride=(4, 4))\n",
      "  (conv2): Conv2d(32, 64, kernel_size=(4, 4), stride=(2, 2))\n",
      "  (conv3): Conv2d(64, 64, kernel_size=(3, 3), stride=(1, 1))\n",
      "  (fc1a): Linear(in_features=3136, out_features=512, bias=True)\n",
      "  (fc3a): Linear(in_features=512, out_features=9, bias=True)\n",
      "  (fc1v): Linear(in_features=3136, out_features=512, bias=True)\n",
      "  (fc3v): Linear(in_features=512, out_features=1, bias=True)\n",
      ")\n",
      "odict_keys(['conv1.weight', 'conv1.bias', 'conv2.weight', 'conv2.bias', 'conv3.weight', 'conv3.bias', 'fc1a.weight', 'fc1a.bias', 'fc3a.weight', 'fc3a.bias', 'fc1v.weight', 'fc1v.bias', 'fc3v.weight', 'fc3v.bias'])\n"
     ]
    }
   ],
   "source": [
    "model_dir = 'saved_models/'\n",
    "model_name = 'MsPacman-v1-3D-all-dicts-local.pt'\n",
    "\n",
    "agent = Agent(state_size=states_stack_depth, action_size=action_space, seed=0)\n",
    "print(agent.qnetwork_local)\n",
    "\n",
    "loadSavedModel = True\n",
    "\n",
    "if loadSavedModel == True:\n",
    "    agent, eps, n_episodes, i_episode = loadTrainedModel(agent, model_dir+model_name)\n",
    "    eps = 1.0\n",
    "    n_episodes = 5000\n",
    "    i_episode = 1\n",
    "else:\n",
    "    eps = 1.0\n",
    "    n_episodes = 10000\n",
    "    i_episode = 1"
   ]
  },
  {
   "cell_type": "code",
   "execution_count": null,
   "metadata": {},
   "outputs": [
    {
     "name": "stdout",
     "output_type": "stream",
     "text": [
      "Training to be started... Steps: 99896 training starts!                            \n",
      "Episode: 100\tAvg Score: 373.10\tsteps: 116225\teps: 0.98\tlr: 2.00e-04\tp: 0.700  b: 0.510\n",
      "Episode: 200\tAvg Score: 422.40\tsteps: 133481\teps: 0.97\tlr: 2.00e-04\tp: 0.700  b: 0.520\n",
      "Episode: 300\tAvg Score: 418.30\tsteps: 150908\teps: 0.95\tlr: 2.00e-04\tp: 0.700  b: 0.530\n",
      "Episode: 400\tAvg Score: 430.60\tsteps: 168125\teps: 0.94\tlr: 2.00e-04\tp: 0.700  b: 0.540\n",
      "Episode: 500\tAvg Score: 420.80\tsteps: 184976\teps: 0.92\tlr: 2.00e-04\tp: 0.700  b: 0.550\n",
      "Episode: 600\tAvg Score: 449.40\tsteps: 202450\teps: 0.90\tlr: 2.00e-04\tp: 0.700  b: 0.560\n",
      "Episode: 700\tAvg Score: 436.20\tsteps: 219404\teps: 0.89\tlr: 2.00e-04\tp: 0.700  b: 0.570\n",
      "Episode: 800\tAvg Score: 415.30\tsteps: 236156\teps: 0.88\tlr: 2.00e-04\tp: 0.700  b: 0.580\n",
      "Episode: 900\tAvg Score: 499.50\tsteps: 254737\teps: 0.86\tlr: 2.00e-04\tp: 0.700  b: 0.590\n",
      "Episode: 1000\tAvg Score: 487.00\tsteps: 272445\teps: 0.85\tlr: 2.00e-04\tp: 0.700  b: 0.600\n",
      "Episode: 1100\tAvg Score: 484.10\tsteps: 290089\teps: 0.83\tlr: 2.00e-04\tp: 0.700  b: 0.610\n",
      "Episode: 1200\tAvg Score: 479.90\tsteps: 307483\teps: 0.82\tlr: 2.00e-04\tp: 0.700  b: 0.620\n",
      "Episode: 1300\tAvg Score: 462.50\tsteps: 324379\teps: 0.81\tlr: 2.00e-04\tp: 0.700  b: 0.630\n",
      "Episode: 1400\tAvg Score: 458.60\tsteps: 341883\teps: 0.79\tlr: 2.00e-04\tp: 0.700  b: 0.640\n",
      "Episode: 1500\tAvg Score: 485.60\tsteps: 359459\teps: 0.78\tlr: 2.00e-04\tp: 0.700  b: 0.650\n",
      "Episode: 1600\tAvg Score: 542.90\tsteps: 378091\teps: 0.77\tlr: 2.00e-04\tp: 0.700  b: 0.660\n",
      "Episode: 1700\tAvg Score: 501.20\tsteps: 396763\teps: 0.75\tlr: 2.00e-04\tp: 0.700  b: 0.670\n",
      "Episode: 1800\tAvg Score: 511.10\tsteps: 414277\teps: 0.74\tlr: 2.00e-04\tp: 0.700  b: 0.680\n",
      "Episode: 1900\tAvg Score: 526.80\tsteps: 431856\teps: 0.73\tlr: 2.00e-04\tp: 0.700  b: 0.690\n",
      "Episode: 2000\tAvg Score: 493.20\tsteps: 449243\teps: 0.72\tlr: 2.00e-04\tp: 0.700  b: 0.700\n",
      "Episode: 2100\tAvg Score: 538.40\tsteps: 467436\teps: 0.70\tlr: 2.00e-04\tp: 0.700  b: 0.710\n",
      "Episode: 2200\tAvg Score: 501.20\tsteps: 485291\teps: 0.69\tlr: 2.00e-04\tp: 0.700  b: 0.720\n",
      "Episode: 2300\tAvg Score: 521.20\tsteps: 503022\teps: 0.68\tlr: 2.00e-04\tp: 0.700  b: 0.730\n",
      "Episode: 2400\tAvg Score: 541.90\tsteps: 521184\teps: 0.67\tlr: 2.00e-04\tp: 0.700  b: 0.740\n",
      "Episode: 2500\tAvg Score: 548.20\tsteps: 539235\teps: 0.66\tlr: 2.00e-04\tp: 0.700  b: 0.750\n",
      "Episode: 2600\tAvg Score: 545.90\tsteps: 557270\teps: 0.65\tlr: 2.00e-04\tp: 0.700  b: 0.760\n",
      "Episode: 2700\tAvg Score: 585.10\tsteps: 576524\teps: 0.64\tlr: 2.00e-04\tp: 0.700  b: 0.770\n",
      "Episode: 2800\tAvg Score: 539.10\tsteps: 595049\teps: 0.63\tlr: 2.00e-04\tp: 0.700  b: 0.780\n",
      "Episode: 2900\tAvg Score: 636.80\tsteps: 614875\teps: 0.62\tlr: 2.00e-04\tp: 0.700  b: 0.790\n",
      "Episode: 3000\tAvg Score: 519.60\tsteps: 632670\teps: 0.61\tlr: 2.00e-04\tp: 0.700  b: 0.800\n",
      "Episode: 3100\tAvg Score: 578.80\tsteps: 650755\teps: 0.60\tlr: 2.00e-04\tp: 0.700  b: 0.810\n",
      "Episode: 3200\tAvg Score: 622.70\tsteps: 669568\teps: 0.59\tlr: 2.00e-04\tp: 0.700  b: 0.820\n",
      "Episode: 3300\tAvg Score: 657.90\tsteps: 688894\teps: 0.58\tlr: 2.00e-04\tp: 0.700  b: 0.830\n",
      "Episode: 3400\tAvg Score: 658.20\tsteps: 708290\teps: 0.57\tlr: 2.00e-04\tp: 0.700  b: 0.840\n",
      "Episode: 3500\tAvg Score: 819.60\tsteps: 730789\teps: 0.56\tlr: 2.00e-04\tp: 0.700  b: 0.850\n",
      "Episode: 3600\tAvg Score: 608.30\tsteps: 751359\teps: 0.55\tlr: 2.00e-04\tp: 0.700  b: 0.860\n",
      "Episode: 3700\tAvg Score: 661.90\tsteps: 773174\teps: 0.54\tlr: 2.00e-04\tp: 0.700  b: 0.870\n",
      "Episode: 3800\tAvg Score: 563.00\tsteps: 792355\teps: 0.53\tlr: 2.00e-04\tp: 0.700  b: 0.880\n",
      "Episode: 3900\tAvg Score: 565.30\tsteps: 811869\teps: 0.52\tlr: 2.00e-04\tp: 0.700  b: 0.890\n",
      "Episode: 4000\tAvg Score: 565.90\tsteps: 831353\teps: 0.51\tlr: 2.00e-04\tp: 0.700  b: 0.900\n",
      "Episode: 4100\tAvg Score: 569.40\tsteps: 850859\teps: 0.50\tlr: 2.00e-04\tp: 0.700  b: 0.910\n",
      "Episode: 4200\tAvg Score: 659.00\tsteps: 871058\teps: 0.50\tlr: 2.00e-04\tp: 0.700  b: 0.920\n",
      "Episode: 4300\tAvg Score: 543.60\tsteps: 889146\teps: 0.49\tlr: 2.00e-04\tp: 0.700  b: 0.930\n",
      "Episode: 4400\tAvg Score: 608.30\tsteps: 909411\teps: 0.48\tlr: 2.00e-04\tp: 0.700  b: 0.940\n",
      "Episode: 4500\tAvg Score: 675.40\tsteps: 928759\teps: 0.47\tlr: 2.00e-04\tp: 0.700  b: 0.950\n",
      "Episode: 4600\tAvg Score: 655.90\tsteps: 947571\teps: 0.46\tlr: 2.00e-04\tp: 0.700  b: 0.960\n",
      "Episode: 4700\tAvg Score: 739.20\tsteps: 966954\teps: 0.46\tlr: 2.00e-04\tp: 0.700  b: 0.970\n",
      "Episode: 4800\tAvg Score: 669.80\tsteps: 986494\teps: 0.45\tlr: 2.00e-04\tp: 0.700  b: 0.980\n",
      "Episode: 4900\tAvg Score: 717.10\tsteps: 1006337\teps: 0.44\tlr: 2.00e-04\tp: 0.700  b: 0.990\n",
      "Episode: 4999\tAvg Score: 638.30\tb: 1.000"
     ]
    }
   ],
   "source": [
    "def dqn_3D(n_episodes=1000, i_episode=1, max_t=1000, eps_start=1.0, eps_end=0.05, eps_decay=0.9995):\n",
    "    \"\"\"Deep Q-Learning.\n",
    "    \n",
    "    Params\n",
    "    ======\n",
    "        n_episodes (int): maximum number of training episodes\n",
    "        max_t (int): maximum number of timesteps per episode\n",
    "        eps_start (float): starting value of epsilon, for epsilon-greedy action selection\n",
    "        eps_end (float): minimum value of epsilon\n",
    "        eps_decay (float): multiplicative factor (per episode) for decreasing epsilon\n",
    "    \"\"\"\n",
    "    stackenv = StackEnv(gym.make('MsPacman-v0'))\n",
    "    \n",
    "    scores = []                        # list containing scores from each episode\n",
    "    scores_window = deque(maxlen=100)  # last 100 scores\n",
    "    frame_counter = 0                  # keep track of number of frames seen\n",
    "    \n",
    "    eps = eps_start                    # initialize epsilon \n",
    "    eps_decay=1-1/(n_episodes+1000)    # make sure decay come to min \n",
    "    \n",
    "    while i_episode < n_episodes + 1:\n",
    "        \n",
    "        state_inputs = stackenv.reset()    \n",
    "        score = 0\n",
    "\n",
    "        for t in range(max_t):\n",
    "\n",
    "            action = agent.act(state_inputs, eps) #for action recommendation\n",
    "            \n",
    "            next_state_inputs, reward, done = stackenv.step(action)\n",
    "            \n",
    "            frame_counter += 1\n",
    "            \n",
    "            agent.step(state_inputs , action, reward, next_state_inputs, done, (i_episode,n_episodes))\n",
    "            \n",
    "            state_inputs = next_state_inputs\n",
    "            \n",
    "            score += reward\n",
    "            \n",
    "            if done:\n",
    "                break \n",
    "                \n",
    "        if agent.isTraining == True:     #learning starts   \n",
    "            scores_window.append(score)       # save most recent score\n",
    "            scores.append(score)              # save most recent score\n",
    "\n",
    "            eps = max(eps_end, eps_decay*eps) # decay epsilon\n",
    "\n",
    "            print('\\rEpisode: {}\\tAvg Score: {:.2f}\\tb: {:.3f}'.format(i_episode, \n",
    "                                                                       np.mean(scores_window),\n",
    "                                                                       agent.p_replay_beta\n",
    "                                                                      ), end=\"\")\n",
    "\n",
    "            if i_episode % 100 == 0:\n",
    "                latest_lr = agent.optimizer.state_dict()['param_groups'][0]['lr']\n",
    "\n",
    "                print(('\\rEpisode: {}\\tAvg Score: {:.2f}\\tsteps: {}\\teps: {:.2f}'\n",
    "                       '\\tlr: {:1.2e}\\tp: {:.3f}  b: {:.3f}').format(i_episode, np.mean(scores_window),\n",
    "                                                                     agent.t_step, eps, latest_lr, \n",
    "                                                                     agent.p_replay_alpha, \n",
    "                                                                     agent.p_replay_beta, end=\"\")) \n",
    "\n",
    "                saveTrainedModel(agent, model_dir+model_name, eps, n_episodes, i_episode)\n",
    "\n",
    "            if np.mean(scores_window)>=2500.0:\n",
    "                print('\\nEnvironment solved in {:d} episodes!\\tAverage Score: {:.2f}'.format(i_episode-100,\n",
    "                                                                                             np.mean(scores_window)))\n",
    "\n",
    "                saveTrainedModel(agent, model_dir+model_name, eps, n_episodes, i_episode)\n",
    "                break\n",
    "            \n",
    "            i_episode += 1\n",
    "        else:\n",
    "            print('\\rTraining to be started... Steps: {} '.format(agent.t_step), end=\"\")\n",
    "\n",
    "    stackenv.close()\n",
    "        \n",
    "    return scores\n",
    "\n",
    "scores = dqn_3D(n_episodes, i_episode=i_episode, eps_start=eps)"
   ]
  },
  {
   "cell_type": "code",
   "execution_count": null,
   "metadata": {},
   "outputs": [],
   "source": [
    "# plot the scores\n",
    "fig = plt.figure()\n",
    "ax = fig.add_subplot(111)\n",
    "plt.plot(np.arange(len(scores)), scores)\n",
    "plt.ylabel('Score')\n",
    "plt.xlabel('Episode #')\n",
    "plt.show()"
   ]
  },
  {
   "cell_type": "code",
   "execution_count": 12,
   "metadata": {},
   "outputs": [
    {
     "data": {
      "image/png": "[encoded data removed]",
      "text/plain": [
       "<matplotlib.figure.Figure at 0x7f4a02979be0>"
      ]
     },
     "metadata": {},
     "output_type": "display_data"
    }
   ],
   "source": [
    "# load the weights from file\n",
    "#torch.load(agent.qnetwork_local.state_dict(), model_dir+model_name)\n",
    "fig, ax = plt.subplots(figsize=(8, 6))\n",
    "\n",
    "stackenv = StackEnv(gym.make('MsPacman-v0'), skipframe=4)\n",
    "\n",
    "agent.qnetwork_local.eval()\n",
    "agent.qnetwork_target.eval()\n",
    "\n",
    "for i in range(3):\n",
    "    # watch an untrained agent\n",
    "    state_inputs = stackenv.reset()  \n",
    "    \n",
    "    img = ax.imshow(stackenv.env.render(mode='rgb_array'))\n",
    "    for j in range(1000):\n",
    "        action = agent.act(state_inputs)\n",
    "        img.set_data(stackenv.env.render(mode='rgb_array')) \n",
    "        plt.axis('off')\n",
    "        display.display(plt.gcf())\n",
    "        display.clear_output(wait=True)\n",
    "        next_state_inputs, reward, done = stackenv.step(action)\n",
    "        \n",
    "        state_inputs = next_state_inputs\n",
    "        \n",
    "        if done:\n",
    "            break \n",
    "\n",
    "agent.qnetwork_local.train()\n",
    "#agent.qnetwork_target.train()\n",
    "            \n",
    "stackenv.env.close()"
   ]
  },
  {
   "cell_type": "code",
   "execution_count": null,
   "metadata": {},
   "outputs": [],
   "source": []
  }
 ],
 "metadata": {
  "kernelspec": {
   "display_name": "Python 3",
   "language": "python",
   "name": "python3"
  },
  "language_info": {
   "codemirror_mode": {
    "name": "ipython",
    "version": 3
   },
   "file_extension": ".py",
   "mimetype": "text/x-python",
   "name": "python",
   "nbconvert_exporter": "python",
   "pygments_lexer": "ipython3",
   "version": "3.5.2"
  }
 },
 "nbformat": 4,
 "nbformat_minor": 2
}
